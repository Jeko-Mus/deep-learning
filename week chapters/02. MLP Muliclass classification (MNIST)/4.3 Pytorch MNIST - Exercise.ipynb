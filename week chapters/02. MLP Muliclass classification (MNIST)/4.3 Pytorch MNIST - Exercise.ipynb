{
 "cells": [
  {
   "cell_type": "markdown",
   "metadata": {},
   "source": [
    "<div style=\"background:#222222; color:#ffffff; padding:20px\">\n",
    "    <h2 align=\"center\">Deep Learning Fundamentals</h2>\n",
    "    <h2 align=\"center\" style=\"color:#01ff84\">Multiclass Clasification: MNIST</h2>\n",
    "<div>"
   ]
  },
  {
   "cell_type": "markdown",
   "metadata": {},
   "source": [
    "## Imports"
   ]
  },
  {
   "cell_type": "code",
   "execution_count": 1,
   "metadata": {},
   "outputs": [],
   "source": [
    "%matplotlib inline\n",
    "%config InlineBackend.figure_format = 'retina'\n",
    "\n",
    "from collections import OrderedDict\n",
    "\n",
    "import numpy as np\n",
    "import matplotlib.pyplot as plt\n",
    "import time\n",
    "\n",
    "import torch\n",
    "from torch import nn\n",
    "from torch import optim\n",
    "import torch.nn.functional as F\n",
    "\n",
    "from torchvision import datasets, transforms"
   ]
  },
  {
   "cell_type": "markdown",
   "metadata": {},
   "source": [
    "## Auxliary plotting function"
   ]
  },
  {
   "cell_type": "code",
   "execution_count": 2,
   "metadata": {},
   "outputs": [],
   "source": [
    "# https://discuss.pytorch.org/t/view-classify-in-module-helper/30279/6\n",
    "\n",
    "def view_classify(img, ps):\n",
    "\n",
    "    ps = ps.data.numpy().squeeze()\n",
    "\n",
    "    fig, (ax1, ax2) = plt.subplots(figsize=(6,9), ncols=2)\n",
    "    ax1.imshow(img.resize_(1, 28, 28).numpy().squeeze())\n",
    "    ax1.axis('off')\n",
    "    ax2.barh(np.arange(10), ps)\n",
    "    ax2.set_aspect(0.1)\n",
    "    ax2.set_yticks(np.arange(10))\n",
    "    ax2.set_yticklabels(np.arange(10))\n",
    "    ax2.set_title('Class Probability')\n",
    "    ax2.set_xlim(0, 1.1)"
   ]
  },
  {
   "cell_type": "markdown",
   "metadata": {},
   "source": [
    "# Load MNIST Dataset\n",
    "First up, we need to get our dataset. This is provided through the `torchvision` package. The code below will download the MNIST dataset, then create training and test datasets for us. Don't worry too much about the details here, you'll learn more about this later."
   ]
  },
  {
   "cell_type": "code",
   "execution_count": 3,
   "metadata": {},
   "outputs": [
    {
     "name": "stdout",
     "output_type": "stream",
     "text": [
      "Downloading http://yann.lecun.com/exdb/mnist/train-images-idx3-ubyte.gz\n",
      "Downloading http://yann.lecun.com/exdb/mnist/train-images-idx3-ubyte.gz to MNIST_data/MNIST\\raw\\train-images-idx3-ubyte.gz\n"
     ]
    },
    {
     "name": "stderr",
     "output_type": "stream",
     "text": [
      "9913344it [00:07, 1336404.28it/s]                             \n"
     ]
    },
    {
     "name": "stdout",
     "output_type": "stream",
     "text": [
      "Extracting MNIST_data/MNIST\\raw\\train-images-idx3-ubyte.gz to MNIST_data/MNIST\\raw\n",
      "\n",
      "Downloading http://yann.lecun.com/exdb/mnist/train-labels-idx1-ubyte.gz\n",
      "Downloading http://yann.lecun.com/exdb/mnist/train-labels-idx1-ubyte.gz to MNIST_data/MNIST\\raw\\train-labels-idx1-ubyte.gz\n"
     ]
    },
    {
     "name": "stderr",
     "output_type": "stream",
     "text": [
      "29696it [00:00, 2140434.97it/s]          \n"
     ]
    },
    {
     "name": "stdout",
     "output_type": "stream",
     "text": [
      "Extracting MNIST_data/MNIST\\raw\\train-labels-idx1-ubyte.gz to MNIST_data/MNIST\\raw\n",
      "\n",
      "Downloading http://yann.lecun.com/exdb/mnist/t10k-images-idx3-ubyte.gz\n",
      "Downloading http://yann.lecun.com/exdb/mnist/t10k-images-idx3-ubyte.gz to MNIST_data/MNIST\\raw\\t10k-images-idx3-ubyte.gz\n"
     ]
    },
    {
     "name": "stderr",
     "output_type": "stream",
     "text": [
      "1649664it [00:00, 2400400.31it/s]                             \n"
     ]
    },
    {
     "name": "stdout",
     "output_type": "stream",
     "text": [
      "Extracting MNIST_data/MNIST\\raw\\t10k-images-idx3-ubyte.gz to MNIST_data/MNIST\\raw\n",
      "\n",
      "Downloading http://yann.lecun.com/exdb/mnist/t10k-labels-idx1-ubyte.gz\n",
      "Downloading http://yann.lecun.com/exdb/mnist/t10k-labels-idx1-ubyte.gz to MNIST_data/MNIST\\raw\\t10k-labels-idx1-ubyte.gz\n"
     ]
    },
    {
     "name": "stderr",
     "output_type": "stream",
     "text": [
      "5120it [00:00, 2567224.92it/s]          \n"
     ]
    },
    {
     "name": "stdout",
     "output_type": "stream",
     "text": [
      "Extracting MNIST_data/MNIST\\raw\\t10k-labels-idx1-ubyte.gz to MNIST_data/MNIST\\raw\n",
      "\n"
     ]
    }
   ],
   "source": [
    "# Define a transform to normalize the data (Preprocessing)\n",
    "transform = transforms.Compose([transforms.ToTensor(), transforms.Normalize((0.5), (0.5)) ])\n",
    "\n",
    "# Download and load the training data\n",
    "trainset    = datasets.MNIST('MNIST_data/', download=True, train=True, transform=transform)\n",
    "trainloader = torch.utils.data.DataLoader(trainset, batch_size=64, shuffle=True)\n",
    "\n",
    "# Download and load the test data\n",
    "testset    = datasets.MNIST('MNIST_data/', download=True, train=False, transform=transform)\n",
    "testloader = torch.utils.data.DataLoader(testset, batch_size=64, shuffle=True)"
   ]
  },
  {
   "cell_type": "code",
   "execution_count": 4,
   "metadata": {},
   "outputs": [],
   "source": [
    "dataiter = iter(trainloader)\n",
    "images, labels = dataiter.next()"
   ]
  },
  {
   "cell_type": "markdown",
   "metadata": {},
   "source": [
    "We have the training data loaded into `trainloader` and we make that an iterator with `iter(trainloader)`. We'd use this to loop through the dataset for training, but here I'm just grabbing the first batch so we can check out the data. We can see below that `images` is just a tensor with size (64, 1, 28, 28). So, 64 images per batch, 1 color channel, and 28x28 images."
   ]
  },
  {
   "cell_type": "code",
   "execution_count": 38,
   "metadata": {},
   "outputs": [
    {
     "data": {
      "image/png": "[encoded data removed]",
      "text/plain": [
       "<Figure size 432x288 with 1 Axes>"
      ]
     },
     "metadata": {
      "image/png": {
       "height": 248,
       "width": 251
      },
      "needs_background": "light"
     },
     "output_type": "display_data"
    }
   ],
   "source": [
    "plt.imshow(images[1].numpy().squeeze(), cmap='Greys_r');"
   ]
  },
  {
   "cell_type": "markdown",
   "metadata": {},
   "source": [
    "## Building networks with PyTorch\n",
    "\n",
    "Here I'll use PyTorch to build a simple feedfoward network to classify the MNIST images. That is, the network will receive a digit image as input and predict the digit in the image.\n",
    "\n",
    "<img src=\"assets/mlp_mnist.png\" width=600px>\n",
    "\n",
    "To build a neural network with PyTorch, you use the `torch.nn` module. The network itself is a class inheriting from `torch.nn.Module`. You define each of the operations separately, like `nn.Linear(784, 128)` for a fully connected linear layer with 784 inputs and 128 units.\n",
    "\n",
    "The class needs to include a `forward` method that implements the forward pass through the network. In this method, you pass some input tensor `x` through each of the operations you defined earlier. The `torch.nn` module also has functional equivalents for things like ReLUs in `torch.nn.functional`. This module is usually imported as `F`. Then to use a ReLU activation on some layer (which is just a tensor), you'd do `F.relu(x)`. Below are a few different commonly used activation functions.\n",
    "\n",
    "<img src=\"assets/activation.png\" width=700px>\n",
    "\n",
    "So, for this network, I'll build it with three fully connected layers, then a softmax output for predicting classes. The softmax function is similar to the sigmoid in that it squashes inputs between 0 and 1, but it's also normalized so that all the values sum to one like a proper probability distribution."
   ]
  },
  {
   "cell_type": "code",
   "execution_count": 6,
   "metadata": {},
   "outputs": [
    {
     "data": {
      "text/plain": [
       "Network(\n",
       "  (fc1): Linear(in_features=784, out_features=128, bias=True)\n",
       "  (fc2): Linear(in_features=128, out_features=64, bias=True)\n",
       "  (fc3): Linear(in_features=64, out_features=10, bias=True)\n",
       ")"
      ]
     },
     "execution_count": 6,
     "metadata": {},
     "output_type": "execute_result"
    }
   ],
   "source": [
    "class Network(nn.Module):\n",
    "    \n",
    "    # Defining the layers, 128, 64, 10 units each\n",
    "    def __init__(self):\n",
    "        super().__init__()\n",
    "        self.fc1 = nn.Linear(784, 128)\n",
    "        self.fc2 = nn.Linear(128, 64)\n",
    "        self.fc3 = nn.Linear(64, 10)\n",
    "        \n",
    "    # Forward pass through the network, returns the output logits\n",
    "    def forward(self, x):\n",
    "        x = self.fc1(x)\n",
    "        x = F.relu(x)\n",
    "        x = self.fc2(x)\n",
    "        x = F.relu(x)\n",
    "        x = self.fc3(x)\n",
    "        x = F.softmax(x, dim=1)\n",
    "        return x\n",
    "\n",
    "model = Network()\n",
    "model"
   ]
  },
  {
   "cell_type": "markdown",
   "metadata": {},
   "source": [
    "### Sequential API\n",
    "PyTorch provides a convenient way to build networks like this where a tensor is passed sequentially through operations, `nn.Sequential` ([documentation](https://pytorch.org/docs/master/nn.html#torch.nn.Sequential)). Using this to build the equivalent network:"
   ]
  },
  {
   "cell_type": "code",
   "execution_count": 7,
   "metadata": {},
   "outputs": [
    {
     "name": "stdout",
     "output_type": "stream",
     "text": [
      "Sequential(\n",
      "  (0): Linear(in_features=784, out_features=128, bias=True)\n",
      "  (1): ReLU()\n",
      "  (2): Linear(in_features=128, out_features=64, bias=True)\n",
      "  (3): ReLU()\n",
      "  (4): Linear(in_features=64, out_features=10, bias=True)\n",
      "  (5): Softmax(dim=1)\n",
      ")\n"
     ]
    }
   ],
   "source": [
    "# Hyperparameters for our network\n",
    "input_size   = 784\n",
    "hidden_sizes = [128, 64]\n",
    "output_size   = 10\n",
    "\n",
    "# Build a feed-forward network\n",
    "model = nn.Sequential(nn.Linear(input_size, hidden_sizes[0]),\n",
    "                      nn.ReLU(),\n",
    "                      nn.Linear(hidden_sizes[0], hidden_sizes[1]),\n",
    "                      nn.ReLU(),\n",
    "                      nn.Linear(hidden_sizes[1], output_size),\n",
    "                      nn.Softmax(dim=1))\n",
    "print(model)"
   ]
  },
  {
   "cell_type": "markdown",
   "metadata": {},
   "source": [
    "You can also pass in an `OrderedDict` to name the individual layers and operations. Note that a dictionary keys must be unique, so _each operation must have a different name_."
   ]
  },
  {
   "cell_type": "code",
   "execution_count": 8,
   "metadata": {},
   "outputs": [
    {
     "data": {
      "text/plain": [
       "Sequential(\n",
       "  (fc1): Linear(in_features=784, out_features=128, bias=True)\n",
       "  (relu1): ReLU()\n",
       "  (fc2): Linear(in_features=128, out_features=64, bias=True)\n",
       "  (relu2): ReLU()\n",
       "  (output): Linear(in_features=64, out_features=10, bias=True)\n",
       "  (softmax): Softmax(dim=1)\n",
       ")"
      ]
     },
     "execution_count": 8,
     "metadata": {},
     "output_type": "execute_result"
    }
   ],
   "source": [
    "model = nn.Sequential(OrderedDict([\n",
    "          ('fc1',   nn.Linear(input_size, hidden_sizes[0])),\n",
    "          ('relu1', nn.ReLU()),\n",
    "          ('fc2',   nn.Linear(hidden_sizes[0], hidden_sizes[1])),\n",
    "          ('relu2', nn.ReLU()),\n",
    "          ('output', nn.Linear(hidden_sizes[1], output_size)),\n",
    "          ('softmax', nn.Softmax(dim=1))]))\n",
    "model"
   ]
  },
  {
   "cell_type": "markdown",
   "metadata": {},
   "source": [
    "### Initializing weights and biases\n",
    "\n",
    "The weights and such are automatically initialized for you, but it's possible to customize how they are initialized. The weights and biases are tensors attached to the layer you defined, you can get them with `model.fc1.weight` for instance."
   ]
  },
  {
   "cell_type": "code",
   "execution_count": 9,
   "metadata": {},
   "outputs": [
    {
     "name": "stdout",
     "output_type": "stream",
     "text": [
      "Parameter containing:\n",
      "tensor([[-0.0273, -0.0218,  0.0296,  ..., -0.0185,  0.0220, -0.0013],\n",
      "        [ 0.0202,  0.0208, -0.0204,  ..., -0.0285, -0.0032, -0.0206],\n",
      "        [ 0.0074,  0.0235, -0.0334,  ...,  0.0163,  0.0228,  0.0325],\n",
      "        ...,\n",
      "        [-0.0135, -0.0318,  0.0324,  ...,  0.0062,  0.0171,  0.0222],\n",
      "        [ 0.0126, -0.0293, -0.0310,  ..., -0.0231, -0.0024, -0.0134],\n",
      "        [ 0.0284,  0.0133,  0.0160,  ..., -0.0327,  0.0076, -0.0090]],\n",
      "       requires_grad=True)\n",
      "Parameter containing:\n",
      "tensor([-0.0239, -0.0288,  0.0220,  0.0072,  0.0171, -0.0188, -0.0306,  0.0020,\n",
      "         0.0176,  0.0356, -0.0053,  0.0061,  0.0233,  0.0331, -0.0063, -0.0340,\n",
      "         0.0066, -0.0135, -0.0146,  0.0007, -0.0003, -0.0063,  0.0203, -0.0323,\n",
      "         0.0160, -0.0109, -0.0220, -0.0282,  0.0080,  0.0213,  0.0344,  0.0314,\n",
      "         0.0334,  0.0113, -0.0199,  0.0056,  0.0063,  0.0037, -0.0111,  0.0204,\n",
      "        -0.0337,  0.0201,  0.0013, -0.0015, -0.0070, -0.0112,  0.0132, -0.0326,\n",
      "         0.0111,  0.0061,  0.0271, -0.0212,  0.0285,  0.0195,  0.0232, -0.0008,\n",
      "         0.0356,  0.0304,  0.0156, -0.0321,  0.0318, -0.0166,  0.0119,  0.0085,\n",
      "         0.0277,  0.0345, -0.0156,  0.0314, -0.0259,  0.0221,  0.0013, -0.0174,\n",
      "        -0.0035,  0.0138,  0.0330, -0.0037,  0.0051, -0.0198,  0.0235, -0.0222,\n",
      "        -0.0180,  0.0166, -0.0283, -0.0267,  0.0025,  0.0009,  0.0054, -0.0293,\n",
      "         0.0354,  0.0093,  0.0195,  0.0147, -0.0130,  0.0355,  0.0162, -0.0221,\n",
      "         0.0103,  0.0245,  0.0123, -0.0247, -0.0216, -0.0338,  0.0263, -0.0174,\n",
      "        -0.0208,  0.0347,  0.0155,  0.0268, -0.0252, -0.0338, -0.0100,  0.0330,\n",
      "         0.0023,  0.0241,  0.0102,  0.0333, -0.0350, -0.0118, -0.0262, -0.0250,\n",
      "        -0.0312,  0.0097, -0.0082, -0.0341,  0.0136,  0.0148,  0.0316, -0.0270],\n",
      "       requires_grad=True)\n"
     ]
    }
   ],
   "source": [
    "print(model.fc1.weight)\n",
    "print(model.fc1.bias)"
   ]
  },
  {
   "cell_type": "markdown",
   "metadata": {},
   "source": [
    "For custom initialization, we want to modify these tensors in place. These are actually autograd *Variables*, so we need to get back the actual tensors with `model.fc1.weight.data`. Once we have the tensors, we can fill them with zeros (for biases) or random normal values."
   ]
  },
  {
   "cell_type": "code",
   "execution_count": 10,
   "metadata": {},
   "outputs": [
    {
     "data": {
      "text/plain": [
       "tensor([0., 0., 0., 0., 0., 0., 0., 0., 0., 0., 0., 0., 0., 0., 0., 0., 0., 0., 0., 0., 0., 0., 0., 0.,\n",
       "        0., 0., 0., 0., 0., 0., 0., 0., 0., 0., 0., 0., 0., 0., 0., 0., 0., 0., 0., 0., 0., 0., 0., 0.,\n",
       "        0., 0., 0., 0., 0., 0., 0., 0., 0., 0., 0., 0., 0., 0., 0., 0., 0., 0., 0., 0., 0., 0., 0., 0.,\n",
       "        0., 0., 0., 0., 0., 0., 0., 0., 0., 0., 0., 0., 0., 0., 0., 0., 0., 0., 0., 0., 0., 0., 0., 0.,\n",
       "        0., 0., 0., 0., 0., 0., 0., 0., 0., 0., 0., 0., 0., 0., 0., 0., 0., 0., 0., 0., 0., 0., 0., 0.,\n",
       "        0., 0., 0., 0., 0., 0., 0., 0.])"
      ]
     },
     "execution_count": 10,
     "metadata": {},
     "output_type": "execute_result"
    }
   ],
   "source": [
    "# Set biases to all zeros\n",
    "model.fc1.bias.data.fill_(0)"
   ]
  },
  {
   "cell_type": "code",
   "execution_count": 11,
   "metadata": {},
   "outputs": [
    {
     "data": {
      "text/plain": [
       "tensor([[-0.0110,  0.0024,  0.0054,  ...,  0.0097,  0.0037, -0.0090],\n",
       "        [ 0.0035,  0.0083, -0.0228,  ...,  0.0062,  0.0178,  0.0053],\n",
       "        [ 0.0076, -0.0032,  0.0042,  ..., -0.0239, -0.0018,  0.0016],\n",
       "        ...,\n",
       "        [ 0.0051, -0.0011, -0.0029,  ..., -0.0133,  0.0090,  0.0055],\n",
       "        [ 0.0010,  0.0009,  0.0048,  ...,  0.0063,  0.0194, -0.0045],\n",
       "        [-0.0027,  0.0056,  0.0022,  ...,  0.0069,  0.0179,  0.0006]])"
      ]
     },
     "execution_count": 11,
     "metadata": {},
     "output_type": "execute_result"
    }
   ],
   "source": [
    "# sample from random normal with standard dev = 0.01\n",
    "model.fc1.weight.data.normal_(std=0.01)"
   ]
  },
  {
   "cell_type": "markdown",
   "metadata": {},
   "source": [
    "### STEP 1: Forward pass\n",
    "\n",
    "Now that we have a network, let's see what happens when we pass in an image. This is called the forward pass. We're going to convert the image data into a tensor, then pass it through the operations defined by the network architecture."
   ]
  },
  {
   "cell_type": "code",
   "execution_count": 50,
   "metadata": {},
   "outputs": [
    {
     "data": {
      "image/png": "[encoded data removed]",
      "text/plain": [
       "<Figure size 432x648 with 2 Axes>"
      ]
     },
     "metadata": {
      "image/png": {
       "height": 195,
       "width": 349
      },
      "needs_background": "light"
     },
     "output_type": "display_data"
    }
   ],
   "source": [
    "# Grab some data \n",
    "dataiter = iter(trainloader)\n",
    "images, labels = dataiter.next()\n",
    "\n",
    "# Resize images into a 1D vector, new shape is (batch size, color channels, image pixels) \n",
    "images.resize_(64, 1, 784)\n",
    "# or images.resize_(images.shape[0], 1, 784) to not automatically get batch size\n",
    "\n",
    "# Forward pass through the network\n",
    "img_idx = 0\n",
    "ps = model.forward(images[img_idx,:])\n",
    "\n",
    "img = images[img_idx]\n",
    "view_classify(img.view(1, 28, 28), ps)"
   ]
  },
  {
   "cell_type": "markdown",
   "metadata": {},
   "source": [
    "As you can see above, our network has basically no idea what this digit is. It's because we haven't trained it yet, all the weights are random!"
   ]
  },
  {
   "cell_type": "markdown",
   "metadata": {},
   "source": [
    "# Training Neural Networks\n",
    "\n",
    "The network we built isn't so smart, it doesn't know anything about our handwritten digits. Neural networks with non-linear activations work like universal function approximators. There is some function that maps your input to the output. For example, images of handwritten digits to class probabilities. The power of neural networks is that we can train them to approximate this function, and basically any function given enough data and compute time.\n",
    "\n",
    "<img src=\"assets/function_approx.png\" width=500px>\n",
    "\n",
    "At first the network is naive, it doesn't know the function mapping the inputs to the outputs. We train the network by showing it examples of real data, then adjusting the network parameters such that it approximates this function.\n",
    "\n",
    "To find these parameters, we need to know how poorly the network is predicting the real outputs. For this we calculate a **loss function** (also called the cost), a measure of our prediction error. For example, the mean squared loss is often used in regression and binary classification problems\n",
    "\n",
    "$$\n",
    "\\ell = \\frac{1}{2n}\\sum_i^n{\\left(y_i - \\hat{y}_i\\right)^2}\n",
    "$$\n",
    "\n",
    "where $n$ is the number of training examples, $y_i$ are the true labels, and $\\hat{y}_i$ are the predicted labels.\n",
    "\n",
    "By minimizing this loss with respect to the network parameters, we can find configurations where the loss is at a minimum and the network is able to predict the correct labels with high accuracy. We find this minimum using a process called **gradient descent**. The gradient is the slope of the loss function and points in the direction of fastest change. To get to the minimum in the least amount of time, we then want to follow the gradient (downwards). You can think of this like descending a mountain by following the steepest slope to the base.\n",
    "\n",
    "<img src='assets/gradient_descent.png' width=350px>"
   ]
  },
  {
   "cell_type": "markdown",
   "metadata": {},
   "source": [
    "## Backpropagation\n",
    "\n",
    "For single layer networks, gradient descent is simple to implement. However, it's more complicated for deeper, multilayer neural networks like the one we've built. Complicated enough that it took about 30 years before researchers figured out how to train multilayer networks, although it's straightforward once you learn about it. \n",
    "\n",
    "This is done through **backpropagation** which is really just an application of the chain rule from calculus. It's easiest to understand if we convert a two layer network into a graph representation.\n",
    "\n",
    "<img src='assets/w1_backprop_graph.png' width=400px>\n",
    "\n",
    "In the forward pass through the network, our data and operations go from right to left here. To train the weights with gradient descent, we propagate the gradient of the cost backwards through the network. Mathematically, this is really just calculating the gradient of the loss with respect to the weights using the chain rule.\n",
    "\n",
    "$$\n",
    "\\frac{\\partial \\ell}{\\partial w_1} = \\frac{\\partial l_1}{\\partial w_1} \\frac{\\partial s}{\\partial l_1} \\frac{\\partial l_2}{\\partial s} \\frac{\\partial \\ell}{\\partial l_2}\n",
    "$$\n",
    "\n",
    "We update our weights using this gradient with some learning rate $\\alpha$. \n",
    "\n",
    "$$\n",
    "w^\\prime = w - \\alpha \\frac{\\partial \\ell}{\\partial w}\n",
    "$$\n",
    "\n",
    "The learning rate is set such that the weight update steps are small enough that the iterative method settles in a minimum.\n",
    "\n",
    "The first thing we need to do for training is define our loss function. In PyTorch, you'll usually see this as `criterion`. Here we're using softmax output, so we want to use `criterion = nn.CrossEntropyLoss()` as our loss. Later when training, you use `loss = criterion(output, targets)` to calculate the actual loss.\n",
    "\n",
    "We also need to define the optimizer we're using, SGD or Adam, or something along those lines. Here I'll just use SGD with `torch.optim.SGD`, passing in the network parameters and the learning rate."
   ]
  },
  {
   "cell_type": "markdown",
   "metadata": {},
   "source": [
    "## Autograd\n",
    "\n",
    "Torch provides a module, `autograd`, for automatically calculating the gradient of tensors. It does this by keeping track of operations performed on tensors. To make sure PyTorch keeps track of operations on a tensor and calculates the gradients, you need to set `requires_grad` on a tensor. You can do this at creation with the `requires_grad` keyword, or at any time with `x.requires_grad_(True)`.\n",
    "\n",
    "You can turn off gradients for a block of code with the `torch.no_grad()` content:\n",
    "```python\n",
    "x = torch.zeros(1, requires_grad=True)\n",
    ">>> with torch.no_grad():\n",
    "...     y = x * 2\n",
    ">>> y.requires_grad\n",
    "False\n",
    "```\n",
    "\n",
    "Also, you can turn on or off gradients altogether with `torch.set_grad_enabled(True|False)`.\n",
    "\n",
    "The gradients are computed with respect to some variable `z` with `z.backward()`. This does a backward pass through the operations that created `z`."
   ]
  },
  {
   "cell_type": "code",
   "execution_count": 13,
   "metadata": {},
   "outputs": [
    {
     "name": "stdout",
     "output_type": "stream",
     "text": [
      "tensor([[-0.8043, -1.0848],\n",
      "        [-0.9714,  2.0051]], requires_grad=True)\n"
     ]
    }
   ],
   "source": [
    "x = torch.randn(2,2, requires_grad=True)\n",
    "print(x)"
   ]
  },
  {
   "cell_type": "code",
   "execution_count": 14,
   "metadata": {},
   "outputs": [
    {
     "name": "stdout",
     "output_type": "stream",
     "text": [
      "tensor([[0.6469, 1.1768],\n",
      "        [0.9437, 4.0205]], grad_fn=<PowBackward0>)\n"
     ]
    }
   ],
   "source": [
    "y = x**2\n",
    "print(y)"
   ]
  },
  {
   "cell_type": "markdown",
   "metadata": {},
   "source": [
    "Below we can see the operation that created `y`, a power operation `PowBackward0`."
   ]
  },
  {
   "cell_type": "code",
   "execution_count": 15,
   "metadata": {},
   "outputs": [
    {
     "name": "stdout",
     "output_type": "stream",
     "text": [
      "<PowBackward0 object at 0x0000017C814DEFD0>\n"
     ]
    }
   ],
   "source": [
    "## grad_fn shows the function that generated this variable\n",
    "print(y.grad_fn)"
   ]
  },
  {
   "cell_type": "markdown",
   "metadata": {},
   "source": [
    "The autgrad module keeps track of these operations and knows how to calculate the gradient for each one. In this way, it's able to calculate the gradients for a chain of operations, with respect to any one tensor. Let's reduce the tensor `y` to a scalar value, the mean."
   ]
  },
  {
   "cell_type": "code",
   "execution_count": 16,
   "metadata": {},
   "outputs": [
    {
     "name": "stdout",
     "output_type": "stream",
     "text": [
      "tensor(1.6970, grad_fn=<MeanBackward0>)\n"
     ]
    }
   ],
   "source": [
    "z = y.mean()\n",
    "print(z)"
   ]
  },
  {
   "cell_type": "markdown",
   "metadata": {},
   "source": [
    "You can check the gradients for `x` and `y` but they are empty currently."
   ]
  },
  {
   "cell_type": "code",
   "execution_count": 17,
   "metadata": {},
   "outputs": [
    {
     "name": "stdout",
     "output_type": "stream",
     "text": [
      "None\n"
     ]
    }
   ],
   "source": [
    "print(x.grad)"
   ]
  },
  {
   "cell_type": "markdown",
   "metadata": {},
   "source": [
    "To calculate the gradients, you need to run the `.backward` method on a Variable, `z` for example. This will calculate the gradient for `z` with respect to `x`\n",
    "\n",
    "$$\n",
    "\\frac{\\partial z}{\\partial x} = \\frac{\\partial}{\\partial x}\\left[\\frac{1}{n}\\sum_i^n x_i^2\\right] = \\frac{x}{2}\n",
    "$$"
   ]
  },
  {
   "cell_type": "code",
   "execution_count": 18,
   "metadata": {},
   "outputs": [
    {
     "name": "stdout",
     "output_type": "stream",
     "text": [
      "tensor([[-0.4022, -0.5424],\n",
      "        [-0.4857,  1.0026]])\n",
      "tensor([[-0.4022, -0.5424],\n",
      "        [-0.4857,  1.0026]], grad_fn=<DivBackward0>)\n"
     ]
    }
   ],
   "source": [
    "z.backward()\n",
    "print(x.grad)\n",
    "print(x/2)"
   ]
  },
  {
   "cell_type": "markdown",
   "metadata": {},
   "source": [
    "These gradients calculations are particularly useful for neural networks. For training we need the gradients of the weights with respect to the cost. With PyTorch, we run data forward through the network to calculate the cost, then, go backwards to calculate the gradients with respect to the cost. Once we have the gradients we can make a gradient descent step. "
   ]
  },
  {
   "cell_type": "markdown",
   "metadata": {},
   "source": [
    "I'll build a network with `nn.Sequential` here. Only difference from the last part is I'm not actually using softmax on the output, but instead just using the raw output from the last layer. This is because the output from softmax is a probability distribution. Often, the output will have values really close to zero or really close to one. Due to [inaccuracies with representing numbers as floating points](https://docs.python.org/3/tutorial/floatingpoint.html), computations with a softmax output can lose accuracy and become unstable. To get around this, we'll use the raw output, called the **logits**, to calculate the loss."
   ]
  },
  {
   "cell_type": "code",
   "execution_count": 19,
   "metadata": {},
   "outputs": [],
   "source": [
    "# Hyperparameters for our network\n",
    "input_size   = 784\n",
    "hidden_sizes = [128, 64]\n",
    "output_size  = 10\n",
    "\n",
    "# Build a feed-forward network\n",
    "model = nn.Sequential(OrderedDict([\n",
    "          ('fc1', nn.Linear(input_size, hidden_sizes[0])),\n",
    "          ('relu1', nn.ReLU()),\n",
    "          ('fc2', nn.Linear(hidden_sizes[0], hidden_sizes[1])),\n",
    "          ('relu2', nn.ReLU()),\n",
    "          ('logits', nn.Linear(hidden_sizes[1], output_size))]))"
   ]
  },
  {
   "cell_type": "markdown",
   "metadata": {},
   "source": [
    "## Training the network!\n",
    "\n",
    "The first thing we need to do for training is define our loss function. In PyTorch, you'll usually see this as `criterion`. Here we're using softmax output, so we want to use `criterion = nn.CrossEntropyLoss()` as our loss. Later when training, you use `loss = criterion(output, targets)` to calculate the actual loss.\n",
    "\n",
    "We also need to define the optimizer we're using, SGD or Adam, or something along those lines. Here I'll just use SGD with `torch.optim.SGD`, passing in the network parameters and the learning rate."
   ]
  },
  {
   "cell_type": "code",
   "execution_count": 20,
   "metadata": {},
   "outputs": [],
   "source": [
    "criterion = nn.CrossEntropyLoss()\n",
    "optimizer = optim.SGD(model.parameters(), lr=0.01)"
   ]
  },
  {
   "cell_type": "markdown",
   "metadata": {},
   "source": [
    "First, let's consider just one learning step before looping through all the data. The general process with PyTorch:\n",
    "\n",
    "* Make a forward pass through the network to get the logits \n",
    "* Use the logits to calculate the loss\n",
    "* Perform a backward pass through the network with `loss.backward()` to calculate the gradients\n",
    "* Take a step with the optimizer to update the weights\n",
    "\n",
    "Below I'll go through one training step and print out the weights and gradients so you can see how it changes."
   ]
  },
  {
   "cell_type": "code",
   "execution_count": 39,
   "metadata": {},
   "outputs": [
    {
     "name": "stdout",
     "output_type": "stream",
     "text": [
      "Initial weights -  Parameter containing:\n",
      "tensor([[-0.0231,  0.0166, -0.0297,  ...,  0.0072,  0.0187,  0.0150],\n",
      "        [ 0.0194, -0.0157, -0.0058,  ...,  0.0275, -0.0315, -0.0169],\n",
      "        [-0.0061,  0.0276, -0.0034,  ...,  0.0228, -0.0385, -0.0092],\n",
      "        ...,\n",
      "        [ 0.0167,  0.0111,  0.0046,  ..., -0.0040,  0.0056, -0.0016],\n",
      "        [ 0.0273, -0.0062, -0.0066,  ..., -0.0195,  0.0271,  0.0246],\n",
      "        [-0.0071, -0.0069,  0.0243,  ...,  0.0188, -0.0011, -0.0228]],\n",
      "       requires_grad=True)\n",
      "Gradient - tensor([[ 0.0050,  0.0050,  0.0050,  ...,  0.0050,  0.0050,  0.0050],\n",
      "        [ 0.0094,  0.0094,  0.0094,  ...,  0.0094,  0.0094,  0.0094],\n",
      "        [-0.0077, -0.0077, -0.0077,  ..., -0.0077, -0.0077, -0.0077],\n",
      "        ...,\n",
      "        [ 0.0026,  0.0026,  0.0026,  ...,  0.0026,  0.0026,  0.0026],\n",
      "        [-0.0004, -0.0004, -0.0004,  ..., -0.0004, -0.0004, -0.0004],\n",
      "        [ 0.0045,  0.0045,  0.0045,  ...,  0.0045,  0.0045,  0.0045]])\n"
     ]
    }
   ],
   "source": [
    "print('Initial weights - ', model.fc1.weight)\n",
    "\n",
    "images, labels = next(iter(trainloader))\n",
    "images.resize_(64, 784)\n",
    "\n",
    "# Clear the gradients, do this because gradients are accumulated\n",
    "optimizer.zero_grad()\n",
    "\n",
    "# Forward pass, then backward pass, then update weights\n",
    "output = model.forward(images)\n",
    "loss = criterion(output, labels)\n",
    "loss.backward()\n",
    "print('Gradient -', model.fc1.weight.grad)\n",
    "optimizer.step()"
   ]
  },
  {
   "cell_type": "code",
   "execution_count": 41,
   "metadata": {},
   "outputs": [
    {
     "name": "stdout",
     "output_type": "stream",
     "text": [
      "Updated weights -  Parameter containing:\n",
      "tensor([[-0.0231,  0.0166, -0.0297,  ...,  0.0072,  0.0187,  0.0149],\n",
      "        [ 0.0194, -0.0158, -0.0058,  ...,  0.0275, -0.0315, -0.0169],\n",
      "        [-0.0061,  0.0277, -0.0034,  ...,  0.0228, -0.0385, -0.0092],\n",
      "        ...,\n",
      "        [ 0.0167,  0.0111,  0.0046,  ..., -0.0040,  0.0056, -0.0017],\n",
      "        [ 0.0273, -0.0062, -0.0066,  ..., -0.0195,  0.0271,  0.0246],\n",
      "        [-0.0071, -0.0069,  0.0243,  ...,  0.0188, -0.0011, -0.0228]],\n",
      "       requires_grad=True)\n"
     ]
    }
   ],
   "source": [
    "print('Updated weights - ', model.fc1.weight)"
   ]
  },
  {
   "cell_type": "markdown",
   "metadata": {},
   "source": [
    "### Training for real\n",
    "\n",
    "Now we'll put this algorithm into a loop so we can go through all the images. This is fairly straightforward. We'll loop through the mini-batches in our dataset, pass the data through the network to calculate the losses, get the gradients, then run the optimizer."
   ]
  },
  {
   "cell_type": "code",
   "execution_count": 23,
   "metadata": {},
   "outputs": [],
   "source": [
    "optimizer = optim.SGD(model.parameters(), lr=0.003)"
   ]
  },
  {
   "cell_type": "code",
   "execution_count": 24,
   "metadata": {},
   "outputs": [
    {
     "name": "stdout",
     "output_type": "stream",
     "text": [
      "Epoch: 1/3\n",
      "\tIteration: 0\t Loss: 0.0580\n",
      "\tIteration: 40\t Loss: 2.2877\n",
      "\tIteration: 80\t Loss: 2.2645\n",
      "\tIteration: 120\t Loss: 2.2388\n",
      "\tIteration: 160\t Loss: 2.2218\n",
      "\tIteration: 200\t Loss: 2.1957\n",
      "\tIteration: 240\t Loss: 2.1759\n",
      "\tIteration: 280\t Loss: 2.1471\n",
      "\tIteration: 320\t Loss: 2.1062\n",
      "\tIteration: 360\t Loss: 2.0753\n",
      "\tIteration: 400\t Loss: 2.0226\n",
      "\tIteration: 440\t Loss: 1.9862\n",
      "\tIteration: 480\t Loss: 1.9275\n",
      "\tIteration: 520\t Loss: 1.8747\n",
      "\tIteration: 560\t Loss: 1.8119\n",
      "\tIteration: 600\t Loss: 1.7578\n",
      "\tIteration: 640\t Loss: 1.6946\n",
      "\tIteration: 680\t Loss: 1.6255\n",
      "\tIteration: 720\t Loss: 1.5488\n",
      "\tIteration: 760\t Loss: 1.4773\n",
      "\tIteration: 800\t Loss: 1.4101\n",
      "\tIteration: 840\t Loss: 1.3685\n",
      "\tIteration: 880\t Loss: 1.3119\n",
      "\tIteration: 920\t Loss: 1.2283\n",
      "Epoch: 2/3\n",
      "\tIteration: 0\t Loss: 0.0261\n",
      "\tIteration: 40\t Loss: 1.1559\n",
      "\tIteration: 80\t Loss: 1.1182\n",
      "\tIteration: 120\t Loss: 1.0553\n",
      "\tIteration: 160\t Loss: 1.0307\n",
      "\tIteration: 200\t Loss: 0.9557\n",
      "\tIteration: 240\t Loss: 0.9503\n",
      "\tIteration: 280\t Loss: 0.9024\n",
      "\tIteration: 320\t Loss: 0.8583\n",
      "\tIteration: 360\t Loss: 0.8421\n",
      "\tIteration: 400\t Loss: 0.8218\n",
      "\tIteration: 440\t Loss: 0.7997\n",
      "\tIteration: 480\t Loss: 0.7731\n",
      "\tIteration: 520\t Loss: 0.7335\n",
      "\tIteration: 560\t Loss: 0.7310\n",
      "\tIteration: 600\t Loss: 0.7188\n",
      "\tIteration: 640\t Loss: 0.6832\n",
      "\tIteration: 680\t Loss: 0.6789\n",
      "\tIteration: 720\t Loss: 0.6774\n",
      "\tIteration: 760\t Loss: 0.6602\n",
      "\tIteration: 800\t Loss: 0.6499\n",
      "\tIteration: 840\t Loss: 0.6223\n",
      "\tIteration: 880\t Loss: 0.6195\n",
      "\tIteration: 920\t Loss: 0.5716\n",
      "Epoch: 3/3\n",
      "\tIteration: 0\t Loss: 0.0174\n",
      "\tIteration: 40\t Loss: 0.6047\n",
      "\tIteration: 80\t Loss: 0.5781\n",
      "\tIteration: 120\t Loss: 0.5773\n",
      "\tIteration: 160\t Loss: 0.5541\n",
      "\tIteration: 200\t Loss: 0.5535\n",
      "\tIteration: 240\t Loss: 0.5319\n",
      "\tIteration: 280\t Loss: 0.5406\n",
      "\tIteration: 320\t Loss: 0.5366\n",
      "\tIteration: 360\t Loss: 0.5299\n",
      "\tIteration: 400\t Loss: 0.5463\n",
      "\tIteration: 440\t Loss: 0.5197\n",
      "\tIteration: 480\t Loss: 0.5097\n",
      "\tIteration: 520\t Loss: 0.4728\n",
      "\tIteration: 560\t Loss: 0.4752\n",
      "\tIteration: 600\t Loss: 0.4939\n",
      "\tIteration: 640\t Loss: 0.4850\n",
      "\tIteration: 680\t Loss: 0.4825\n",
      "\tIteration: 720\t Loss: 0.4780\n",
      "\tIteration: 760\t Loss: 0.4544\n",
      "\tIteration: 800\t Loss: 0.4758\n",
      "\tIteration: 840\t Loss: 0.4380\n",
      "\tIteration: 880\t Loss: 0.4471\n",
      "\tIteration: 920\t Loss: 0.4601\n"
     ]
    }
   ],
   "source": [
    "epochs = 3\n",
    "print_every = 40\n",
    "\n",
    "for e in range(epochs):\n",
    "    running_loss = 0\n",
    "    print(f\"Epoch: {e+1}/{epochs}\")\n",
    "\n",
    "    for i, (images, labels) in enumerate(iter(trainloader)):\n",
    "\n",
    "        # Flatten MNIST images into a 784 long vector\n",
    "        images.resize_(images.size()[0], 784)\n",
    "        \n",
    "        optimizer.zero_grad()\n",
    "        \n",
    "        output = model.forward(images)   # 1) Forward pass\n",
    "        loss = criterion(output, labels) # 2) Compute loss\n",
    "        loss.backward()                  # 3) Backward pass\n",
    "        optimizer.step()                 # 4) Update model\n",
    "        \n",
    "        running_loss += loss.item()\n",
    "        \n",
    "        if i % print_every == 0:\n",
    "            print(f\"\\tIteration: {i}\\t Loss: {running_loss/print_every:.4f}\")\n",
    "            running_loss = 0"
   ]
  },
  {
   "cell_type": "markdown",
   "metadata": {},
   "source": [
    "With the network trained, we can check out it's predictions."
   ]
  },
  {
   "cell_type": "code",
   "execution_count": 28,
   "metadata": {},
   "outputs": [
    {
     "data": {
      "image/png": "[encoded data removed]",
      "text/plain": [
       "<Figure size 432x648 with 2 Axes>"
      ]
     },
     "metadata": {
      "image/png": {
       "height": 195,
       "width": 349
      },
      "needs_background": "light"
     },
     "output_type": "display_data"
    }
   ],
   "source": [
    "images, labels = next(iter(trainloader))\n",
    "\n",
    "img = images[0].view(1, 784)\n",
    "# Turn off gradients to speed up this part\n",
    "with torch.no_grad():\n",
    "    logits = model.forward(img)\n",
    "\n",
    "# Output of the network are logits, need to take softmax for probabilities\n",
    "ps = F.softmax(logits, dim=1)\n",
    "view_classify(img.view(1, 28, 28), ps)"
   ]
  },
  {
   "cell_type": "markdown",
   "metadata": {},
   "source": [
    "Now our network is brilliant. It can accurately predict the digits in our images."
   ]
  },
  {
   "cell_type": "markdown",
   "metadata": {},
   "source": [
    "<div style=\"background:#222222; color:#ffffff; padding:20px\">\n",
    "    <h2 align=\"center\" style=\"color:#01ff84\">MNIST Clasification: Exercise</h2>\n",
    "<div>"
   ]
  },
  {
   "cell_type": "markdown",
   "metadata": {},
   "source": [
    "<div style=\"background:#222222; color:#ffffff; padding:20px\">\n",
    "  <h3 style=\"color:#01ff84; margin-top:4px\">Exercise 1:</h3>\n",
    "  <p>Now it's your turn to build a simple network, use any method I've covered so far. In the next notebook, you'll learn how to train a network so it can make good predictions.</p>\n",
    "  <p>Build a network to classify the MNIST images with 3 hidden layers. Use 400 units in the first hidden layer, 200 units in the second layer, and 100 units in the third layer. Each hidden layer should have a ReLU activation function, and use softmax on the output layer.</p>\n",
    "<div>"
   ]
  },
  {
   "cell_type": "code",
   "execution_count": 87,
   "metadata": {},
   "outputs": [
    {
     "data": {
      "text/plain": [
       "Network(\n",
       "  (fc1): Linear(in_features=784, out_features=400, bias=True)\n",
       "  (fc2): Linear(in_features=400, out_features=200, bias=True)\n",
       "  (fc3): Linear(in_features=200, out_features=100, bias=True)\n",
       "  (fc4): Linear(in_features=100, out_features=10, bias=True)\n",
       ")"
      ]
     },
     "execution_count": 87,
     "metadata": {},
     "output_type": "execute_result"
    }
   ],
   "source": [
    "class Network(nn.Module):\n",
    "    \n",
    "    # Defining the layers, 128, 64, 10 units each\n",
    "    def __init__(self):\n",
    "        super().__init__()\n",
    "        self.fc1 = nn.Linear(784, 400)\n",
    "        self.fc2 = nn.Linear(400, 200)\n",
    "        self.fc3 = nn.Linear(200, 100)\n",
    "        self.fc4 = nn.Linear(100, 10)\n",
    "        \n",
    "    # Forward pass through the network, returns the output logits\n",
    "    def forward(self, x):\n",
    "        x = self.fc1(x)\n",
    "        x = F.relu(x)\n",
    "        x = self.fc2(x)\n",
    "        x = F.relu(x)\n",
    "        x = self.fc3(x)\n",
    "        x = F.relu(x)\n",
    "        x = self.fc4(x)\n",
    "        #x = F.softmax(x, dim=1)\n",
    "        return x\n",
    "\n",
    "model = Network()\n",
    "model"
   ]
  },
  {
   "cell_type": "code",
   "execution_count": 82,
   "metadata": {},
   "outputs": [
    {
     "data": {
      "image/png": "[encoded data removed]",
      "text/plain": [
       "<Figure size 432x648 with 2 Axes>"
      ]
     },
     "metadata": {
      "image/png": {
       "height": 195,
       "width": 349
      },
      "needs_background": "light"
     },
     "output_type": "display_data"
    }
   ],
   "source": [
    "# Run this cell with your model to make sure it works\n",
    "# Forward pass through the network and display output\n",
    "images, labels = next(iter(trainloader))\n",
    "images.resize_(images.shape[0], 1, 784)\n",
    "ps = model.forward(images[0,:])\n",
    "view_classify(images[0].view(1, 28, 28), ps)"
   ]
  },
  {
   "cell_type": "markdown",
   "metadata": {},
   "source": [
    "<div style=\"background:#222222; color:#ffffff; padding:20px\">\n",
    "  <h3 style=\"color:#01ff84; margin-top:4px\">Exercise 2:</h3>\n",
    "  <p>Train your network implementing the Pytorch training loop and <strong style=\"color:#01ff84\">after each epoch, use the model for predicting the test (validation) MNIST data.</strong></p>\n",
    "  <p>Note: If your model does not fit with the final softmax layer, you can remove this layer.</p>\n",
    "  <p>Hint: <a href=\"https://discuss.pytorch.org/t/training-loop-checking-validation-accuracy/78399\">Training loop checking validation accuracy\n",
    "</a></p>\n",
    "  <p>Research about <code>model.train()</code>, <code>model.eval()</code> and <code>with torch.no_grad()</code> in Pytorch.\n",
    "<div>"
   ]
  },
  {
   "cell_type": "code",
   "execution_count": 89,
   "metadata": {},
   "outputs": [],
   "source": [
    "optimizer = optim.Adam(model.parameters(), lr=0.003)\n",
    "criterion = nn.CrossEntropyLoss()"
   ]
  },
  {
   "cell_type": "code",
   "execution_count": 90,
   "metadata": {},
   "outputs": [
    {
     "name": "stdout",
     "output_type": "stream",
     "text": [
      "Epoch: 1/5\n",
      "\tIteration: 0\t Loss: 0.0576\n",
      "\tIteration: 40\t Loss: 1.4364\n",
      "\tIteration: 80\t Loss: 0.6193\n",
      "\tIteration: 120\t Loss: 0.4733\n",
      "\tIteration: 160\t Loss: 0.3980\n",
      "\tIteration: 200\t Loss: 0.3327\n",
      "\tIteration: 240\t Loss: 0.3060\n",
      "\tIteration: 280\t Loss: 0.3172\n",
      "\tIteration: 320\t Loss: 0.2763\n",
      "\tIteration: 360\t Loss: 0.2802\n",
      "\tIteration: 400\t Loss: 0.2777\n",
      "\tIteration: 440\t Loss: 0.2611\n",
      "\tIteration: 480\t Loss: 0.2693\n",
      "\tIteration: 520\t Loss: 0.2292\n",
      "\tIteration: 560\t Loss: 0.2221\n",
      "\tIteration: 600\t Loss: 0.2141\n",
      "\tIteration: 640\t Loss: 0.2929\n",
      "\tIteration: 680\t Loss: 0.1924\n",
      "\tIteration: 720\t Loss: 0.2519\n",
      "\tIteration: 760\t Loss: 0.1770\n",
      "\tIteration: 800\t Loss: 0.2409\n",
      "\tIteration: 840\t Loss: 0.2234\n",
      "\tIteration: 880\t Loss: 0.2309\n",
      "\tIteration: 920\t Loss: 0.1876\n",
      "Epoch: 2/5\n",
      "\tIteration: 0\t Loss: 0.0058\n",
      "\tIteration: 40\t Loss: 0.1625\n",
      "\tIteration: 80\t Loss: 0.1768\n",
      "\tIteration: 120\t Loss: 0.1663\n",
      "\tIteration: 160\t Loss: 0.1854\n",
      "\tIteration: 200\t Loss: 0.1635\n",
      "\tIteration: 240\t Loss: 0.1419\n",
      "\tIteration: 280\t Loss: 0.1837\n",
      "\tIteration: 320\t Loss: 0.1869\n",
      "\tIteration: 360\t Loss: 0.1704\n",
      "\tIteration: 400\t Loss: 0.1774\n",
      "\tIteration: 440\t Loss: 0.1850\n",
      "\tIteration: 480\t Loss: 0.1617\n",
      "\tIteration: 520\t Loss: 0.1772\n",
      "\tIteration: 560\t Loss: 0.1690\n",
      "\tIteration: 600\t Loss: 0.1942\n",
      "\tIteration: 640\t Loss: 0.1491\n",
      "\tIteration: 680\t Loss: 0.1577\n",
      "\tIteration: 720\t Loss: 0.1414\n",
      "\tIteration: 760\t Loss: 0.1509\n",
      "\tIteration: 800\t Loss: 0.1365\n",
      "\tIteration: 840\t Loss: 0.1367\n",
      "\tIteration: 880\t Loss: 0.1733\n",
      "\tIteration: 920\t Loss: 0.1578\n",
      "Epoch: 3/5\n",
      "\tIteration: 0\t Loss: 0.0016\n",
      "\tIteration: 40\t Loss: 0.1230\n",
      "\tIteration: 80\t Loss: 0.1476\n",
      "\tIteration: 120\t Loss: 0.1225\n",
      "\tIteration: 160\t Loss: 0.1282\n",
      "\tIteration: 200\t Loss: 0.1683\n",
      "\tIteration: 240\t Loss: 0.1570\n",
      "\tIteration: 280\t Loss: 0.1211\n",
      "\tIteration: 320\t Loss: 0.1507\n",
      "\tIteration: 360\t Loss: 0.1641\n",
      "\tIteration: 400\t Loss: 0.1400\n",
      "\tIteration: 440\t Loss: 0.1181\n",
      "\tIteration: 480\t Loss: 0.1491\n",
      "\tIteration: 520\t Loss: 0.1425\n",
      "\tIteration: 560\t Loss: 0.1373\n",
      "\tIteration: 600\t Loss: 0.1305\n",
      "\tIteration: 640\t Loss: 0.1397\n",
      "\tIteration: 680\t Loss: 0.1128\n",
      "\tIteration: 720\t Loss: 0.1350\n",
      "\tIteration: 760\t Loss: 0.1120\n",
      "\tIteration: 800\t Loss: 0.1203\n",
      "\tIteration: 840\t Loss: 0.1225\n",
      "\tIteration: 880\t Loss: 0.1231\n",
      "\tIteration: 920\t Loss: 0.1486\n",
      "Epoch: 4/5\n",
      "\tIteration: 0\t Loss: 0.0016\n",
      "\tIteration: 40\t Loss: 0.0979\n",
      "\tIteration: 80\t Loss: 0.1234\n",
      "\tIteration: 120\t Loss: 0.0813\n",
      "\tIteration: 160\t Loss: 0.1333\n",
      "\tIteration: 200\t Loss: 0.1226\n",
      "\tIteration: 240\t Loss: 0.1147\n",
      "\tIteration: 280\t Loss: 0.1423\n",
      "\tIteration: 320\t Loss: 0.1203\n",
      "\tIteration: 360\t Loss: 0.1075\n",
      "\tIteration: 400\t Loss: 0.1232\n",
      "\tIteration: 440\t Loss: 0.1034\n",
      "\tIteration: 480\t Loss: 0.1205\n",
      "\tIteration: 520\t Loss: 0.1339\n",
      "\tIteration: 560\t Loss: 0.1085\n",
      "\tIteration: 600\t Loss: 0.1153\n",
      "\tIteration: 640\t Loss: 0.1073\n",
      "\tIteration: 680\t Loss: 0.1205\n",
      "\tIteration: 720\t Loss: 0.1111\n",
      "\tIteration: 760\t Loss: 0.1108\n",
      "\tIteration: 800\t Loss: 0.1205\n",
      "\tIteration: 840\t Loss: 0.1097\n",
      "\tIteration: 880\t Loss: 0.1188\n",
      "\tIteration: 920\t Loss: 0.1096\n",
      "Epoch: 5/5\n",
      "\tIteration: 0\t Loss: 0.0011\n",
      "\tIteration: 40\t Loss: 0.1044\n",
      "\tIteration: 80\t Loss: 0.1163\n",
      "\tIteration: 120\t Loss: 0.0833\n",
      "\tIteration: 160\t Loss: 0.0931\n",
      "\tIteration: 200\t Loss: 0.1025\n",
      "\tIteration: 240\t Loss: 0.0922\n",
      "\tIteration: 280\t Loss: 0.0977\n",
      "\tIteration: 320\t Loss: 0.0979\n",
      "\tIteration: 360\t Loss: 0.0978\n",
      "\tIteration: 400\t Loss: 0.1167\n",
      "\tIteration: 440\t Loss: 0.1206\n",
      "\tIteration: 480\t Loss: 0.1003\n",
      "\tIteration: 520\t Loss: 0.1011\n",
      "\tIteration: 560\t Loss: 0.1134\n",
      "\tIteration: 600\t Loss: 0.0978\n",
      "\tIteration: 640\t Loss: 0.0897\n",
      "\tIteration: 680\t Loss: 0.0956\n",
      "\tIteration: 720\t Loss: 0.0975\n",
      "\tIteration: 760\t Loss: 0.1082\n",
      "\tIteration: 800\t Loss: 0.1094\n",
      "\tIteration: 840\t Loss: 0.1196\n",
      "\tIteration: 880\t Loss: 0.1112\n",
      "\tIteration: 920\t Loss: 0.1453\n"
     ]
    }
   ],
   "source": [
    "## TODO: Your training loop here\n",
    "\n",
    "epochs = 5\n",
    "print_every = 40\n",
    "\n",
    "for e in range(epochs):\n",
    "    running_loss = 0\n",
    "    print(f\"Epoch: {e+1}/{epochs}\")\n",
    "\n",
    "    for i, (images, labels) in enumerate(iter(trainloader)):\n",
    "\n",
    "        # Flatten MNIST images into a 784 long vector\n",
    "        images.resize_(images.size()[0], 784)\n",
    "        \n",
    "        optimizer.zero_grad()\n",
    "        \n",
    "        output = model.forward(images)   # 1) Forward pass\n",
    "        loss = criterion(output, labels) # 2) Compute loss\n",
    "        loss.backward()                  # 3) Backward pass\n",
    "        optimizer.step()                 # 4) Update model\n",
    "        \n",
    "        running_loss += loss.item()\n",
    "        \n",
    "        if i % print_every == 0:\n",
    "            print(f\"\\tIteration: {i}\\t Loss: {running_loss/print_every:.4f}\")\n",
    "            running_loss = 0\n"
   ]
  },
  {
   "cell_type": "code",
   "execution_count": 106,
   "metadata": {},
   "outputs": [
    {
     "name": "stdout",
     "output_type": "stream",
     "text": [
      "tensor([[5.4449e-04, 2.4124e-04, 6.6019e-05, 9.1823e-05, 3.8385e-01, 1.1647e-03,\n",
      "         2.6340e-05, 2.8479e-04, 4.5245e-04, 6.1328e-01]],\n",
      "       grad_fn=<SoftmaxBackward0>)\n"
     ]
    },
    {
     "data": {
      "image/png": "[encoded data removed]",
      "text/plain": [
       "<Figure size 432x648 with 2 Axes>"
      ]
     },
     "metadata": {
      "image/png": {
       "height": 195,
       "width": 349
      },
      "needs_background": "light"
     },
     "output_type": "display_data"
    }
   ],
   "source": [
    "# Run this cell with your model to make sure it works and predicts well for the validation data\n",
    "images, labels = next(iter(testloader))\n",
    "images.resize_(images.shape[0], 1, 784)\n",
    "logit = model.forward(images[0,:])\n",
    "ps = F.softmax(logit, dim =1)\n",
    "print(ps)\n",
    "view_classify(images[0].view(1, 28, 28), ps)\n",
    "\n"
   ]
  },
  {
   "cell_type": "markdown",
   "metadata": {},
   "source": [
    "<div style=\"background:#222222; color:#ffffff; padding:20px\">\n",
    "  <h3 style=\"color:#01ff84; margin-top:4px\">Exercise 3:</h3>\n",
    "  <p>Write the code for adding <strong style=\"color:#01ff84\">Early Stopping with patience = 2</strong> to the training loop from scratch.</p>\n",
    "  <p><strong style=\"color:#01ff84\">Hint:</strong> Monitor the Validation loss every epoch, and if in 2 epochs, the validation loss does not improve, stop the training loop with <code>break</code>.</p>\n",
    "<div>"
   ]
  },
  {
   "cell_type": "code",
   "execution_count": 79,
   "metadata": {},
   "outputs": [
    {
     "ename": "ModuleNotFoundError",
     "evalue": "No module named 'pytorchtools'",
     "output_type": "error",
     "traceback": [
      "\u001b[1;31m---------------------------------------------------------------------------\u001b[0m",
      "\u001b[1;31mModuleNotFoundError\u001b[0m                       Traceback (most recent call last)",
      "\u001b[1;32mc:\\Users\\rujek\\Documents\\GitHub\\Deep_learning\\week chapters\\02. MLP Muliclass classification (MNIST)\\4.3 Pytorch MNIST - Exercise.ipynb Cell 61'\u001b[0m in \u001b[0;36m<module>\u001b[1;34m\u001b[0m\n\u001b[0;32m      <a href='vscode-notebook-cell:/c%3A/Users/rujek/Documents/GitHub/Deep_learning/week%20chapters/02.%20MLP%20Muliclass%20classification%20%28MNIST%29/4.3%20Pytorch%20MNIST%20-%20Exercise.ipynb#ch0000059?line=0'>1</a>\u001b[0m \u001b[39m## TODO: Your training loop here\u001b[39;00m\n\u001b[1;32m----> <a href='vscode-notebook-cell:/c%3A/Users/rujek/Documents/GitHub/Deep_learning/week%20chapters/02.%20MLP%20Muliclass%20classification%20%28MNIST%29/4.3%20Pytorch%20MNIST%20-%20Exercise.ipynb#ch0000059?line=1'>2</a>\u001b[0m \u001b[39mfrom\u001b[39;00m \u001b[39mpytorchtools\u001b[39;00m \u001b[39mimport\u001b[39;00m EarlyStopping\n\u001b[0;32m      <a href='vscode-notebook-cell:/c%3A/Users/rujek/Documents/GitHub/Deep_learning/week%20chapters/02.%20MLP%20Muliclass%20classification%20%28MNIST%29/4.3%20Pytorch%20MNIST%20-%20Exercise.ipynb#ch0000059?line=3'>4</a>\u001b[0m \u001b[39m# initialize the early_stopping object\u001b[39;00m\n\u001b[0;32m      <a href='vscode-notebook-cell:/c%3A/Users/rujek/Documents/GitHub/Deep_learning/week%20chapters/02.%20MLP%20Muliclass%20classification%20%28MNIST%29/4.3%20Pytorch%20MNIST%20-%20Exercise.ipynb#ch0000059?line=4'>5</a>\u001b[0m early_stop \u001b[39m=\u001b[39m EarlyStopping(patience\u001b[39m=\u001b[39m\u001b[39m2\u001b[39m, verbose\u001b[39m=\u001b[39m\u001b[39mTrue\u001b[39;00m)\n",
      "\u001b[1;31mModuleNotFoundError\u001b[0m: No module named 'pytorchtools'"
     ]
    }
   ],
   "source": [
    "## TODO: Your training loop here\n",
    "\n",
    "from pytorchtools import EarlyStopping\n",
    "\n",
    "# initialize the early_stopping object\n",
    "early_stop = EarlyStopping(patience=2, verbose=True)"
   ]
  }
 ],
 "metadata": {
  "kernelspec": {
   "display_name": "Python 3",
   "language": "python",
   "name": "python3"
  },
  "language_info": {
   "codemirror_mode": {
    "name": "ipython",
    "version": 3
   },
   "file_extension": ".py",
   "mimetype": "text/x-python",
   "name": "python",
   "nbconvert_exporter": "python",
   "pygments_lexer": "ipython3",
   "version": "3.8.12"
  }
 },
 "nbformat": 4,
 "nbformat_minor": 2
}
