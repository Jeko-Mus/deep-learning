{
 "cells": [
  {
   "cell_type": "code",
   "execution_count": 1,
   "id": "broad-working",
   "metadata": {
    "ExecuteTime": {
     "end_time": "2021-03-29T22:31:33.722276Z",
     "start_time": "2021-03-29T22:31:33.372070Z"
    }
   },
   "outputs": [],
   "source": [
    "import pandas as pd"
   ]
  },
  {
   "cell_type": "code",
   "execution_count": 111,
   "id": "accepting-profit",
   "metadata": {
    "ExecuteTime": {
     "end_time": "2021-03-29T22:31:33.737038Z",
     "start_time": "2021-03-29T22:31:33.723718Z"
    }
   },
   "outputs": [
    {
     "data": {
      "text/html": [
       "<div>\n",
       "<style scoped>\n",
       "    .dataframe tbody tr th:only-of-type {\n",
       "        vertical-align: middle;\n",
       "    }\n",
       "\n",
       "    .dataframe tbody tr th {\n",
       "        vertical-align: top;\n",
       "    }\n",
       "\n",
       "    .dataframe thead th {\n",
       "        text-align: right;\n",
       "    }\n",
       "</style>\n",
       "<table border=\"1\" class=\"dataframe\">\n",
       "  <thead>\n",
       "    <tr style=\"text-align: right;\">\n",
       "      <th></th>\n",
       "      <th>Timestamp</th>\n",
       "      <th>Speaker</th>\n",
       "      <th>Text</th>\n",
       "    </tr>\n",
       "  </thead>\n",
       "  <tbody>\n",
       "    <tr>\n",
       "      <th>0</th>\n",
       "      <td>[00:00:00]</td>\n",
       "      <td>Joe Rogan</td>\n",
       "      <td>Ah, ha, ha, ha. Four, three, two, one, boom. T...</td>\n",
       "    </tr>\n",
       "    <tr>\n",
       "      <th>1</th>\n",
       "      <td>[00:00:09]</td>\n",
       "      <td>Elon Musk</td>\n",
       "      <td>You're welcome.</td>\n",
       "    </tr>\n",
       "    <tr>\n",
       "      <th>2</th>\n",
       "      <td>[00:00:10]</td>\n",
       "      <td>Joe Rogan</td>\n",
       "      <td>It's very good to meet you.</td>\n",
       "    </tr>\n",
       "    <tr>\n",
       "      <th>3</th>\n",
       "      <td>[00:00:11]</td>\n",
       "      <td>Elon Musk</td>\n",
       "      <td>Nice to meet you too.</td>\n",
       "    </tr>\n",
       "    <tr>\n",
       "      <th>4</th>\n",
       "      <td>[00:00:12]</td>\n",
       "      <td>Joe Rogan</td>\n",
       "      <td>And thanks for not lighting this place on fire.</td>\n",
       "    </tr>\n",
       "  </tbody>\n",
       "</table>\n",
       "</div>"
      ],
      "text/plain": [
       "    Timestamp    Speaker                                               Text\n",
       "0  [00:00:00]  Joe Rogan  Ah, ha, ha, ha. Four, three, two, one, boom. T...\n",
       "1  [00:00:09]  Elon Musk                                    You're welcome.\n",
       "2  [00:00:10]  Joe Rogan                        It's very good to meet you.\n",
       "3  [00:00:11]  Elon Musk                              Nice to meet you too.\n",
       "4  [00:00:12]  Joe Rogan    And thanks for not lighting this place on fire."
      ]
     },
     "execution_count": 111,
     "metadata": {},
     "output_type": "execute_result"
    }
   ],
   "source": [
    "df = pd.read_csv(\"data/jre_elon_musk.csv\")\n",
    "df.head()"
   ]
  },
  {
   "cell_type": "code",
   "execution_count": 112,
   "id": "pacific-proportion",
   "metadata": {
    "ExecuteTime": {
     "end_time": "2021-03-29T22:31:33.740828Z",
     "start_time": "2021-03-29T22:31:33.738483Z"
    }
   },
   "outputs": [
    {
     "name": "stdout",
     "output_type": "stream",
     "text": [
      "0    Ah, ha, ha, ha. Four, three, two, one, boom. T...\n",
      "1                                      You're welcome.\n",
      "2                          It's very good to meet you.\n",
      "3                                Nice to meet you too.\n",
      "4      And thanks for not lighting this place on fire.\n",
      "5                 You're welcome. That's coming later.\n",
      "6    How does one, just in the middle of doing all ...\n",
      "7    Well, the flame, we didn't put a lot of time i...\n",
      "8                                            Now, who-\n",
      "9    And then, we have a merchandise section that o...\n",
      "Name: Text, dtype: object\n"
     ]
    }
   ],
   "source": [
    "# Print the first ten lines of text\n",
    "print(df.Text[0:10])"
   ]
  },
  {
   "cell_type": "code",
   "execution_count": 113,
   "id": "split-binary",
   "metadata": {
    "ExecuteTime": {
     "end_time": "2021-03-29T22:31:33.744723Z",
     "start_time": "2021-03-29T22:31:33.742128Z"
    }
   },
   "outputs": [],
   "source": [
    "# Create a function to convert timestamp into seconds\n",
    "import re\n",
    "from datetime import datetime\n",
    "def convert_timestamp_into_seconds(timestamp):\n",
    "    seconds = []\n",
    "    for i in timestamp:\n",
    "        h,m,s = re.findall(\"\\d+\", i)\n",
    "        second = int(h)*60*60 + int(m)*60 + int(s)\n",
    "        seconds.append(second)\n",
    "    return seconds"
   ]
  },
  {
   "cell_type": "code",
   "execution_count": 114,
   "id": "described-sussex",
   "metadata": {
    "ExecuteTime": {
     "end_time": "2021-03-29T22:31:33.752441Z",
     "start_time": "2021-03-29T22:31:33.745762Z"
    }
   },
   "outputs": [],
   "source": [
    "# Convert the Timestamp column using the function defined above\n",
    "df[\"Timestamp\"] = convert_timestamp_into_seconds(df[\"Timestamp\"])"
   ]
  },
  {
   "cell_type": "code",
   "execution_count": 85,
   "id": "exotic-wireless",
   "metadata": {
    "ExecuteTime": {
     "end_time": "2021-03-29T22:31:33.761163Z",
     "start_time": "2021-03-29T22:31:33.754043Z"
    }
   },
   "outputs": [
    {
     "data": {
      "text/html": [
       "<div>\n",
       "<style scoped>\n",
       "    .dataframe tbody tr th:only-of-type {\n",
       "        vertical-align: middle;\n",
       "    }\n",
       "\n",
       "    .dataframe tbody tr th {\n",
       "        vertical-align: top;\n",
       "    }\n",
       "\n",
       "    .dataframe thead th {\n",
       "        text-align: right;\n",
       "    }\n",
       "</style>\n",
       "<table border=\"1\" class=\"dataframe\">\n",
       "  <thead>\n",
       "    <tr style=\"text-align: right;\">\n",
       "      <th></th>\n",
       "      <th>Timestamp</th>\n",
       "      <th>Speaker</th>\n",
       "      <th>Text</th>\n",
       "    </tr>\n",
       "  </thead>\n",
       "  <tbody>\n",
       "    <tr>\n",
       "      <th>0</th>\n",
       "      <td>0</td>\n",
       "      <td>Joe Rogan</td>\n",
       "      <td>Ah, ha, ha, ha. Four, three, two, one, boom. T...</td>\n",
       "    </tr>\n",
       "    <tr>\n",
       "      <th>1</th>\n",
       "      <td>9</td>\n",
       "      <td>Elon Musk</td>\n",
       "      <td>You're welcome.</td>\n",
       "    </tr>\n",
       "    <tr>\n",
       "      <th>2</th>\n",
       "      <td>10</td>\n",
       "      <td>Joe Rogan</td>\n",
       "      <td>It's very good to meet you.</td>\n",
       "    </tr>\n",
       "    <tr>\n",
       "      <th>3</th>\n",
       "      <td>11</td>\n",
       "      <td>Elon Musk</td>\n",
       "      <td>Nice to meet you too.</td>\n",
       "    </tr>\n",
       "    <tr>\n",
       "      <th>4</th>\n",
       "      <td>12</td>\n",
       "      <td>Joe Rogan</td>\n",
       "      <td>And thanks for not lighting this place on fire.</td>\n",
       "    </tr>\n",
       "    <tr>\n",
       "      <th>...</th>\n",
       "      <td>...</td>\n",
       "      <td>...</td>\n",
       "      <td>...</td>\n",
       "    </tr>\n",
       "    <tr>\n",
       "      <th>1826</th>\n",
       "      <td>9401</td>\n",
       "      <td>Joe Rogan</td>\n",
       "      <td>I believe it's true too. So, thank you.</td>\n",
       "    </tr>\n",
       "    <tr>\n",
       "      <th>1827</th>\n",
       "      <td>9403</td>\n",
       "      <td>Elon Musk</td>\n",
       "      <td>You're welcome.</td>\n",
       "    </tr>\n",
       "    <tr>\n",
       "      <th>1828</th>\n",
       "      <td>9404</td>\n",
       "      <td>Joe Rogan</td>\n",
       "      <td>All you assholes out there, be nice. Be nice, ...</td>\n",
       "    </tr>\n",
       "    <tr>\n",
       "      <th>1829</th>\n",
       "      <td>9410</td>\n",
       "      <td>Elon Musk</td>\n",
       "      <td>All right, thank you.</td>\n",
       "    </tr>\n",
       "    <tr>\n",
       "      <th>1830</th>\n",
       "      <td>9410</td>\n",
       "      <td>Joe Rogan</td>\n",
       "      <td>Good night, everybody. END OF TRANSCRIPTAutoma...</td>\n",
       "    </tr>\n",
       "  </tbody>\n",
       "</table>\n",
       "<p>1831 rows × 3 columns</p>\n",
       "</div>"
      ],
      "text/plain": [
       "      Timestamp    Speaker                                               Text\n",
       "0             0  Joe Rogan  Ah, ha, ha, ha. Four, three, two, one, boom. T...\n",
       "1             9  Elon Musk                                    You're welcome.\n",
       "2            10  Joe Rogan                        It's very good to meet you.\n",
       "3            11  Elon Musk                              Nice to meet you too.\n",
       "4            12  Joe Rogan    And thanks for not lighting this place on fire.\n",
       "...         ...        ...                                                ...\n",
       "1826       9401  Joe Rogan            I believe it's true too. So, thank you.\n",
       "1827       9403  Elon Musk                                    You're welcome.\n",
       "1828       9404  Joe Rogan  All you assholes out there, be nice. Be nice, ...\n",
       "1829       9410  Elon Musk                              All right, thank you.\n",
       "1830       9410  Joe Rogan  Good night, everybody. END OF TRANSCRIPTAutoma...\n",
       "\n",
       "[1831 rows x 3 columns]"
      ]
     },
     "execution_count": 85,
     "metadata": {},
     "output_type": "execute_result"
    }
   ],
   "source": [
    "df"
   ]
  },
  {
   "cell_type": "code",
   "execution_count": 115,
   "id": "automated-washington",
   "metadata": {
    "ExecuteTime": {
     "end_time": "2021-03-29T22:31:33.771471Z",
     "start_time": "2021-03-29T22:31:33.764137Z"
    }
   },
   "outputs": [],
   "source": [
    "# Add a column with the seconds lasted by the text in the row\n",
    "# for example: the first row lasts 9 seconds, since Elon Musk\n",
    "# answer at the second 9 (Hint: use shift with period - 1).\n",
    "# In case of negative numbers, just make them 1 (minimum interval lenght is 1 second)\n",
    "import numpy as np\n",
    "def max1(x):\n",
    "    x = x.shift(-1) - x.shift(0)\n",
    "    return np.maximum(1,x)\n",
    "\n",
    "\n",
    "df[\"Interval\"] = max1(df.Timestamp)"
   ]
  },
  {
   "cell_type": "code",
   "execution_count": 116,
   "id": "3503039f",
   "metadata": {},
   "outputs": [
    {
     "name": "stdout",
     "output_type": "stream",
     "text": [
      "<class 'pandas.core.frame.DataFrame'>\n",
      "RangeIndex: 1831 entries, 0 to 1830\n",
      "Data columns (total 4 columns):\n",
      " #   Column     Non-Null Count  Dtype  \n",
      "---  ------     --------------  -----  \n",
      " 0   Timestamp  1831 non-null   int64  \n",
      " 1   Speaker    1831 non-null   object \n",
      " 2   Text       1831 non-null   object \n",
      " 3   Interval   1830 non-null   float64\n",
      "dtypes: float64(1), int64(1), object(2)\n",
      "memory usage: 57.3+ KB\n"
     ]
    }
   ],
   "source": [
    "df.info()"
   ]
  },
  {
   "cell_type": "code",
   "execution_count": 117,
   "id": "flush-rating",
   "metadata": {
    "ExecuteTime": {
     "end_time": "2021-03-29T22:31:33.779836Z",
     "start_time": "2021-03-29T22:31:33.776781Z"
    }
   },
   "outputs": [
    {
     "data": {
      "text/plain": [
       "array(['Joe Rogan', 'Elon Musk', 'Jaime'], dtype=object)"
      ]
     },
     "execution_count": 117,
     "metadata": {},
     "output_type": "execute_result"
    }
   ],
   "source": [
    "df.Speaker.unique()"
   ]
  },
  {
   "cell_type": "code",
   "execution_count": 134,
   "id": "impressive-montana",
   "metadata": {
    "ExecuteTime": {
     "end_time": "2021-03-29T22:31:33.786629Z",
     "start_time": "2021-03-29T22:31:33.781182Z"
    }
   },
   "outputs": [
    {
     "data": {
      "text/plain": [
       "4636.0"
      ]
     },
     "execution_count": 134,
     "metadata": {},
     "output_type": "execute_result"
    }
   ],
   "source": [
    "# Total seconds spoken by Joe Rogan\n",
    "df.loc[df['Speaker'] == 'Joe Rogan', 'Interval'].sum()\n"
   ]
  },
  {
   "cell_type": "code",
   "execution_count": 132,
   "id": "sized-locking",
   "metadata": {
    "ExecuteTime": {
     "end_time": "2021-03-29T22:31:33.792682Z",
     "start_time": "2021-03-29T22:31:33.787665Z"
    }
   },
   "outputs": [
    {
     "data": {
      "text/plain": [
       "5075.0"
      ]
     },
     "execution_count": 132,
     "metadata": {},
     "output_type": "execute_result"
    }
   ],
   "source": [
    "# Total seconds spoken by Elon Musk\n",
    "df.loc[df['Speaker'] == 'Elon Musk', 'Interval'].sum()"
   ]
  },
  {
   "cell_type": "code",
   "execution_count": 133,
   "id": "regular-lithuania",
   "metadata": {
    "ExecuteTime": {
     "end_time": "2021-03-29T22:31:33.797733Z",
     "start_time": "2021-03-29T22:31:33.793794Z"
    }
   },
   "outputs": [
    {
     "data": {
      "text/plain": [
       "45.0"
      ]
     },
     "execution_count": 133,
     "metadata": {},
     "output_type": "execute_result"
    }
   ],
   "source": [
    "# Total seconds spoken by Jaime\n",
    "df.loc[df['Speaker'] == 'Jaime', 'Interval'].sum()\n"
   ]
  },
  {
   "cell_type": "code",
   "execution_count": 125,
   "id": "powerful-detail",
   "metadata": {
    "ExecuteTime": {
     "end_time": "2021-03-29T22:31:33.804917Z",
     "start_time": "2021-03-29T22:31:33.798845Z"
    }
   },
   "outputs": [
    {
     "data": {
      "text/html": [
       "<div>\n",
       "<style scoped>\n",
       "    .dataframe tbody tr th:only-of-type {\n",
       "        vertical-align: middle;\n",
       "    }\n",
       "\n",
       "    .dataframe tbody tr th {\n",
       "        vertical-align: top;\n",
       "    }\n",
       "\n",
       "    .dataframe thead th {\n",
       "        text-align: right;\n",
       "    }\n",
       "</style>\n",
       "<table border=\"1\" class=\"dataframe\">\n",
       "  <thead>\n",
       "    <tr style=\"text-align: right;\">\n",
       "      <th></th>\n",
       "      <th>Timestamp</th>\n",
       "      <th>Interval</th>\n",
       "    </tr>\n",
       "    <tr>\n",
       "      <th>Speaker</th>\n",
       "      <th></th>\n",
       "      <th></th>\n",
       "    </tr>\n",
       "  </thead>\n",
       "  <tbody>\n",
       "    <tr>\n",
       "      <th>Elon Musk</th>\n",
       "      <td>5079.642464</td>\n",
       "      <td>5.583058</td>\n",
       "    </tr>\n",
       "    <tr>\n",
       "      <th>Jaime</th>\n",
       "      <td>5386.823529</td>\n",
       "      <td>2.647059</td>\n",
       "    </tr>\n",
       "    <tr>\n",
       "      <th>Joe Rogan</th>\n",
       "      <td>5095.106077</td>\n",
       "      <td>5.128319</td>\n",
       "    </tr>\n",
       "  </tbody>\n",
       "</table>\n",
       "</div>"
      ],
      "text/plain": [
       "             Timestamp  Interval\n",
       "Speaker                         \n",
       "Elon Musk  5079.642464  5.583058\n",
       "Jaime      5386.823529  2.647059\n",
       "Joe Rogan  5095.106077  5.128319"
      ]
     },
     "execution_count": 125,
     "metadata": {},
     "output_type": "execute_result"
    }
   ],
   "source": [
    "# Average speaking interval for each person\n",
    "df.groupby('Speaker').mean()\n"
   ]
  },
  {
   "cell_type": "markdown",
   "id": "suburban-shipping",
   "metadata": {},
   "source": [
    "Who speaks faster?\n",
    "\n",
    "Tokenize the text, preprocess the tokens so that you have only words (excluding punctuation) and compute the velocity of each speaker as: number of words per interval / length of interval . Store the result in a column named Velocity and compute the average for each speaker."
   ]
  },
  {
   "cell_type": "code",
   "execution_count": 14,
   "id": "facial-living",
   "metadata": {
    "ExecuteTime": {
     "end_time": "2021-03-29T22:31:44.193591Z",
     "start_time": "2021-03-29T22:31:33.806035Z"
    }
   },
   "outputs": [],
   "source": [
    "# Preprocess the data\n",
    "import spacy\n",
    "\n",
    "nlp = spacy.load(\"en_core_web_sm\")\n",
    "\n",
    "# Create a function to remove punctuation from text\n",
    "\n",
    "def remove_punctuation(text):\n",
    "    for token in text:\n",
    "        if token.is_punct:\n",
    "            continue\n",
    "        else:\n",
    "        return token.text\n",
    "\n",
    "# Create a function to count the non punctuation token of a text\n",
    "\n",
    "def count_tokens(text):\n",
    "    total_puncts = []\n",
    "    for token in text:\n",
    "        if token.is_punct:\n",
    "        total_puncts.append(token.text)\n",
    "    return sum(total_puncts)\n",
    "    \n",
    "# Create a function to remove stop words from text\n",
    "    \n",
    "def remove_stopwords(text):\n",
    "    # your code here\n",
    "\n",
    "df[\"TextNoPunct\"] = remove_punctuation(df.Text)"
   ]
  },
  {
   "cell_type": "code",
   "execution_count": 15,
   "id": "constant-shakespeare",
   "metadata": {
    "ExecuteTime": {
     "end_time": "2021-03-29T22:31:53.437500Z",
     "start_time": "2021-03-29T22:31:44.194518Z"
    }
   },
   "outputs": [],
   "source": [
    "# Put the number of tokens of each row in a new column\n",
    "df[\"n_tokens\"] = # your code here"
   ]
  },
  {
   "cell_type": "code",
   "execution_count": 16,
   "id": "saved-drama",
   "metadata": {
    "ExecuteTime": {
     "end_time": "2021-03-29T22:31:53.447357Z",
     "start_time": "2021-03-29T22:31:53.438403Z"
    }
   },
   "outputs": [
    {
     "data": {
      "text/html": [
       "<div>\n",
       "<style scoped>\n",
       "    .dataframe tbody tr th:only-of-type {\n",
       "        vertical-align: middle;\n",
       "    }\n",
       "\n",
       "    .dataframe tbody tr th {\n",
       "        vertical-align: top;\n",
       "    }\n",
       "\n",
       "    .dataframe thead th {\n",
       "        text-align: right;\n",
       "    }\n",
       "</style>\n",
       "<table border=\"1\" class=\"dataframe\">\n",
       "  <thead>\n",
       "    <tr style=\"text-align: right;\">\n",
       "      <th></th>\n",
       "      <th>Timestamp</th>\n",
       "      <th>Speaker</th>\n",
       "      <th>Text</th>\n",
       "      <th>Interval</th>\n",
       "      <th>TextNoPunct</th>\n",
       "      <th>n_tokens</th>\n",
       "    </tr>\n",
       "  </thead>\n",
       "  <tbody>\n",
       "    <tr>\n",
       "      <th>0</th>\n",
       "      <td>0</td>\n",
       "      <td>Joe Rogan</td>\n",
       "      <td>Ah, ha, ha, ha. Four, three, two, one, boom. T...</td>\n",
       "      <td>9.0</td>\n",
       "      <td>Ah ha ha ha Four three two one boom Thank you ...</td>\n",
       "      <td>19</td>\n",
       "    </tr>\n",
       "    <tr>\n",
       "      <th>1</th>\n",
       "      <td>9</td>\n",
       "      <td>Elon Musk</td>\n",
       "      <td>You're welcome.</td>\n",
       "      <td>1.0</td>\n",
       "      <td>You 're welcome</td>\n",
       "      <td>3</td>\n",
       "    </tr>\n",
       "    <tr>\n",
       "      <th>2</th>\n",
       "      <td>10</td>\n",
       "      <td>Joe Rogan</td>\n",
       "      <td>It's very good to meet you.</td>\n",
       "      <td>1.0</td>\n",
       "      <td>It 's very good to meet you</td>\n",
       "      <td>7</td>\n",
       "    </tr>\n",
       "    <tr>\n",
       "      <th>3</th>\n",
       "      <td>11</td>\n",
       "      <td>Elon Musk</td>\n",
       "      <td>Nice to meet you too.</td>\n",
       "      <td>1.0</td>\n",
       "      <td>Nice to meet you too</td>\n",
       "      <td>5</td>\n",
       "    </tr>\n",
       "    <tr>\n",
       "      <th>4</th>\n",
       "      <td>12</td>\n",
       "      <td>Joe Rogan</td>\n",
       "      <td>And thanks for not lighting this place on fire.</td>\n",
       "      <td>1.0</td>\n",
       "      <td>And thanks for not lighting this place on fire</td>\n",
       "      <td>9</td>\n",
       "    </tr>\n",
       "    <tr>\n",
       "      <th>...</th>\n",
       "      <td>...</td>\n",
       "      <td>...</td>\n",
       "      <td>...</td>\n",
       "      <td>...</td>\n",
       "      <td>...</td>\n",
       "      <td>...</td>\n",
       "    </tr>\n",
       "    <tr>\n",
       "      <th>1826</th>\n",
       "      <td>2921</td>\n",
       "      <td>Joe Rogan</td>\n",
       "      <td>I believe it's true too. So, thank you.</td>\n",
       "      <td>2.0</td>\n",
       "      <td>I believe it 's true too So thank you</td>\n",
       "      <td>9</td>\n",
       "    </tr>\n",
       "    <tr>\n",
       "      <th>1827</th>\n",
       "      <td>2923</td>\n",
       "      <td>Elon Musk</td>\n",
       "      <td>You're welcome.</td>\n",
       "      <td>1.0</td>\n",
       "      <td>You 're welcome</td>\n",
       "      <td>3</td>\n",
       "    </tr>\n",
       "    <tr>\n",
       "      <th>1828</th>\n",
       "      <td>2924</td>\n",
       "      <td>Joe Rogan</td>\n",
       "      <td>All you assholes out there, be nice. Be nice, ...</td>\n",
       "      <td>6.0</td>\n",
       "      <td>All you assholes out there be nice Be nice bit...</td>\n",
       "      <td>18</td>\n",
       "    </tr>\n",
       "    <tr>\n",
       "      <th>1829</th>\n",
       "      <td>2930</td>\n",
       "      <td>Elon Musk</td>\n",
       "      <td>All right, thank you.</td>\n",
       "      <td>1.0</td>\n",
       "      <td>All right thank you</td>\n",
       "      <td>4</td>\n",
       "    </tr>\n",
       "    <tr>\n",
       "      <th>1830</th>\n",
       "      <td>2930</td>\n",
       "      <td>Joe Rogan</td>\n",
       "      <td>Good night, everybody. END OF TRANSCRIPTAutoma...</td>\n",
       "      <td>1.0</td>\n",
       "      <td>Good night everybody END OF TRANSCRIPTAutomate...</td>\n",
       "      <td>17</td>\n",
       "    </tr>\n",
       "  </tbody>\n",
       "</table>\n",
       "<p>1831 rows × 6 columns</p>\n",
       "</div>"
      ],
      "text/plain": [
       "      Timestamp    Speaker                                               Text  \\\n",
       "0             0  Joe Rogan  Ah, ha, ha, ha. Four, three, two, one, boom. T...   \n",
       "1             9  Elon Musk                                    You're welcome.   \n",
       "2            10  Joe Rogan                        It's very good to meet you.   \n",
       "3            11  Elon Musk                              Nice to meet you too.   \n",
       "4            12  Joe Rogan    And thanks for not lighting this place on fire.   \n",
       "...         ...        ...                                                ...   \n",
       "1826       2921  Joe Rogan            I believe it's true too. So, thank you.   \n",
       "1827       2923  Elon Musk                                    You're welcome.   \n",
       "1828       2924  Joe Rogan  All you assholes out there, be nice. Be nice, ...   \n",
       "1829       2930  Elon Musk                              All right, thank you.   \n",
       "1830       2930  Joe Rogan  Good night, everybody. END OF TRANSCRIPTAutoma...   \n",
       "\n",
       "      Interval                                        TextNoPunct  n_tokens  \n",
       "0          9.0  Ah ha ha ha Four three two one boom Thank you ...        19  \n",
       "1          1.0                                    You 're welcome         3  \n",
       "2          1.0                        It 's very good to meet you         7  \n",
       "3          1.0                               Nice to meet you too         5  \n",
       "4          1.0     And thanks for not lighting this place on fire         9  \n",
       "...        ...                                                ...       ...  \n",
       "1826       2.0              I believe it 's true too So thank you         9  \n",
       "1827       1.0                                    You 're welcome         3  \n",
       "1828       6.0  All you assholes out there be nice Be nice bit...        18  \n",
       "1829       1.0                                All right thank you         4  \n",
       "1830       1.0  Good night everybody END OF TRANSCRIPTAutomate...        17  \n",
       "\n",
       "[1831 rows x 6 columns]"
      ]
     },
     "execution_count": 16,
     "metadata": {},
     "output_type": "execute_result"
    }
   ],
   "source": [
    "df"
   ]
  },
  {
   "cell_type": "code",
   "execution_count": 17,
   "id": "daily-newton",
   "metadata": {
    "ExecuteTime": {
     "end_time": "2021-03-29T22:31:53.450694Z",
     "start_time": "2021-03-29T22:31:53.448360Z"
    }
   },
   "outputs": [],
   "source": [
    "# Compute the velocity and store it in a new column\n",
    "\n",
    "df[\"Velocity\"] = # your code here"
   ]
  },
  {
   "cell_type": "code",
   "execution_count": 18,
   "id": "intimate-pottery",
   "metadata": {
    "ExecuteTime": {
     "end_time": "2021-03-29T22:31:53.461867Z",
     "start_time": "2021-03-29T22:31:53.451650Z"
    }
   },
   "outputs": [
    {
     "data": {
      "text/html": [
       "<div>\n",
       "<style scoped>\n",
       "    .dataframe tbody tr th:only-of-type {\n",
       "        vertical-align: middle;\n",
       "    }\n",
       "\n",
       "    .dataframe tbody tr th {\n",
       "        vertical-align: top;\n",
       "    }\n",
       "\n",
       "    .dataframe thead th {\n",
       "        text-align: right;\n",
       "    }\n",
       "</style>\n",
       "<table border=\"1\" class=\"dataframe\">\n",
       "  <thead>\n",
       "    <tr style=\"text-align: right;\">\n",
       "      <th></th>\n",
       "      <th>Timestamp</th>\n",
       "      <th>Speaker</th>\n",
       "      <th>Text</th>\n",
       "      <th>Interval</th>\n",
       "      <th>TextNoPunct</th>\n",
       "      <th>n_tokens</th>\n",
       "      <th>Velocity</th>\n",
       "    </tr>\n",
       "  </thead>\n",
       "  <tbody>\n",
       "    <tr>\n",
       "      <th>0</th>\n",
       "      <td>0</td>\n",
       "      <td>Joe Rogan</td>\n",
       "      <td>Ah, ha, ha, ha. Four, three, two, one, boom. T...</td>\n",
       "      <td>9.0</td>\n",
       "      <td>Ah ha ha ha Four three two one boom Thank you ...</td>\n",
       "      <td>19</td>\n",
       "      <td>2.111111</td>\n",
       "    </tr>\n",
       "    <tr>\n",
       "      <th>1</th>\n",
       "      <td>9</td>\n",
       "      <td>Elon Musk</td>\n",
       "      <td>You're welcome.</td>\n",
       "      <td>1.0</td>\n",
       "      <td>You 're welcome</td>\n",
       "      <td>3</td>\n",
       "      <td>3.000000</td>\n",
       "    </tr>\n",
       "    <tr>\n",
       "      <th>2</th>\n",
       "      <td>10</td>\n",
       "      <td>Joe Rogan</td>\n",
       "      <td>It's very good to meet you.</td>\n",
       "      <td>1.0</td>\n",
       "      <td>It 's very good to meet you</td>\n",
       "      <td>7</td>\n",
       "      <td>7.000000</td>\n",
       "    </tr>\n",
       "    <tr>\n",
       "      <th>3</th>\n",
       "      <td>11</td>\n",
       "      <td>Elon Musk</td>\n",
       "      <td>Nice to meet you too.</td>\n",
       "      <td>1.0</td>\n",
       "      <td>Nice to meet you too</td>\n",
       "      <td>5</td>\n",
       "      <td>5.000000</td>\n",
       "    </tr>\n",
       "    <tr>\n",
       "      <th>4</th>\n",
       "      <td>12</td>\n",
       "      <td>Joe Rogan</td>\n",
       "      <td>And thanks for not lighting this place on fire.</td>\n",
       "      <td>1.0</td>\n",
       "      <td>And thanks for not lighting this place on fire</td>\n",
       "      <td>9</td>\n",
       "      <td>9.000000</td>\n",
       "    </tr>\n",
       "    <tr>\n",
       "      <th>...</th>\n",
       "      <td>...</td>\n",
       "      <td>...</td>\n",
       "      <td>...</td>\n",
       "      <td>...</td>\n",
       "      <td>...</td>\n",
       "      <td>...</td>\n",
       "      <td>...</td>\n",
       "    </tr>\n",
       "    <tr>\n",
       "      <th>1826</th>\n",
       "      <td>2921</td>\n",
       "      <td>Joe Rogan</td>\n",
       "      <td>I believe it's true too. So, thank you.</td>\n",
       "      <td>2.0</td>\n",
       "      <td>I believe it 's true too So thank you</td>\n",
       "      <td>9</td>\n",
       "      <td>4.500000</td>\n",
       "    </tr>\n",
       "    <tr>\n",
       "      <th>1827</th>\n",
       "      <td>2923</td>\n",
       "      <td>Elon Musk</td>\n",
       "      <td>You're welcome.</td>\n",
       "      <td>1.0</td>\n",
       "      <td>You 're welcome</td>\n",
       "      <td>3</td>\n",
       "      <td>3.000000</td>\n",
       "    </tr>\n",
       "    <tr>\n",
       "      <th>1828</th>\n",
       "      <td>2924</td>\n",
       "      <td>Joe Rogan</td>\n",
       "      <td>All you assholes out there, be nice. Be nice, ...</td>\n",
       "      <td>6.0</td>\n",
       "      <td>All you assholes out there be nice Be nice bit...</td>\n",
       "      <td>18</td>\n",
       "      <td>3.000000</td>\n",
       "    </tr>\n",
       "    <tr>\n",
       "      <th>1829</th>\n",
       "      <td>2930</td>\n",
       "      <td>Elon Musk</td>\n",
       "      <td>All right, thank you.</td>\n",
       "      <td>1.0</td>\n",
       "      <td>All right thank you</td>\n",
       "      <td>4</td>\n",
       "      <td>4.000000</td>\n",
       "    </tr>\n",
       "    <tr>\n",
       "      <th>1830</th>\n",
       "      <td>2930</td>\n",
       "      <td>Joe Rogan</td>\n",
       "      <td>Good night, everybody. END OF TRANSCRIPTAutoma...</td>\n",
       "      <td>1.0</td>\n",
       "      <td>Good night everybody END OF TRANSCRIPTAutomate...</td>\n",
       "      <td>17</td>\n",
       "      <td>17.000000</td>\n",
       "    </tr>\n",
       "  </tbody>\n",
       "</table>\n",
       "<p>1831 rows × 7 columns</p>\n",
       "</div>"
      ],
      "text/plain": [
       "      Timestamp    Speaker                                               Text  \\\n",
       "0             0  Joe Rogan  Ah, ha, ha, ha. Four, three, two, one, boom. T...   \n",
       "1             9  Elon Musk                                    You're welcome.   \n",
       "2            10  Joe Rogan                        It's very good to meet you.   \n",
       "3            11  Elon Musk                              Nice to meet you too.   \n",
       "4            12  Joe Rogan    And thanks for not lighting this place on fire.   \n",
       "...         ...        ...                                                ...   \n",
       "1826       2921  Joe Rogan            I believe it's true too. So, thank you.   \n",
       "1827       2923  Elon Musk                                    You're welcome.   \n",
       "1828       2924  Joe Rogan  All you assholes out there, be nice. Be nice, ...   \n",
       "1829       2930  Elon Musk                              All right, thank you.   \n",
       "1830       2930  Joe Rogan  Good night, everybody. END OF TRANSCRIPTAutoma...   \n",
       "\n",
       "      Interval                                        TextNoPunct  n_tokens  \\\n",
       "0          9.0  Ah ha ha ha Four three two one boom Thank you ...        19   \n",
       "1          1.0                                    You 're welcome         3   \n",
       "2          1.0                        It 's very good to meet you         7   \n",
       "3          1.0                               Nice to meet you too         5   \n",
       "4          1.0     And thanks for not lighting this place on fire         9   \n",
       "...        ...                                                ...       ...   \n",
       "1826       2.0              I believe it 's true too So thank you         9   \n",
       "1827       1.0                                    You 're welcome         3   \n",
       "1828       6.0  All you assholes out there be nice Be nice bit...        18   \n",
       "1829       1.0                                All right thank you         4   \n",
       "1830       1.0  Good night everybody END OF TRANSCRIPTAutomate...        17   \n",
       "\n",
       "       Velocity  \n",
       "0      2.111111  \n",
       "1      3.000000  \n",
       "2      7.000000  \n",
       "3      5.000000  \n",
       "4      9.000000  \n",
       "...         ...  \n",
       "1826   4.500000  \n",
       "1827   3.000000  \n",
       "1828   3.000000  \n",
       "1829   4.000000  \n",
       "1830  17.000000  \n",
       "\n",
       "[1831 rows x 7 columns]"
      ]
     },
     "execution_count": 18,
     "metadata": {},
     "output_type": "execute_result"
    }
   ],
   "source": [
    "df"
   ]
  },
  {
   "cell_type": "code",
   "execution_count": 19,
   "id": "explicit-climb",
   "metadata": {
    "ExecuteTime": {
     "end_time": "2021-03-29T22:31:53.466751Z",
     "start_time": "2021-03-29T22:31:53.462928Z"
    }
   },
   "outputs": [
    {
     "data": {
      "text/plain": [
       "Speaker\n",
       "Elon Musk    2.882109\n",
       "Jaime        3.597523\n",
       "Joe Rogan    3.046772\n",
       "Name: Velocity, dtype: float64"
      ]
     },
     "execution_count": 19,
     "metadata": {},
     "output_type": "execute_result"
    }
   ],
   "source": [
    "# Inspect the avg velocity of each speaker"
   ]
  },
  {
   "cell_type": "markdown",
   "id": "structured-asian",
   "metadata": {},
   "source": [
    "After all, Elon was high...\n",
    "\n",
    "![image](https://bsmedia.business-standard.com/_media/bs/img/article/2018-09/09/full/1536463138-6668.jpg)"
   ]
  },
  {
   "cell_type": "code",
   "execution_count": null,
   "id": "green-samba",
   "metadata": {},
   "outputs": [],
   "source": [
    "# "
   ]
  }
 ],
 "metadata": {
  "kernelspec": {
   "display_name": "Python 3",
   "language": "python",
   "name": "python3"
  },
  "language_info": {
   "codemirror_mode": {
    "name": "ipython",
    "version": 3
   },
   "file_extension": ".py",
   "mimetype": "text/x-python",
   "name": "python",
   "nbconvert_exporter": "python",
   "pygments_lexer": "ipython3",
   "version": "3.8.12"
  },
  "varInspector": {
   "cols": {
    "lenName": 16,
    "lenType": 16,
    "lenVar": 40
   },
   "kernels_config": {
    "python": {
     "delete_cmd_postfix": "",
     "delete_cmd_prefix": "del ",
     "library": "var_list.py",
     "varRefreshCmd": "print(var_dic_list())"
    },
    "r": {
     "delete_cmd_postfix": ") ",
     "delete_cmd_prefix": "rm(",
     "library": "var_list.r",
     "varRefreshCmd": "cat(var_dic_list()) "
    }
   },
   "types_to_exclude": [
    "module",
    "function",
    "builtin_function_or_method",
    "instance",
    "_Feature"
   ],
   "window_display": false
  }
 },
 "nbformat": 4,
 "nbformat_minor": 5
}
